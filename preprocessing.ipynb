{
 "cells": [
  {
   "cell_type": "code",
   "execution_count": 131,
   "id": "b5678fc4",
   "metadata": {},
   "outputs": [],
   "source": [
    "import pandas as pd\n",
    "import numpy as np\n",
    "import os\n",
    "import matplotlib.pyplot as plt\n",
    "import seaborn as sns\n",
    "plt.style.use('seaborn')\n",
    "import sklearn\n",
    "from sklearn.linear_model import LogisticRegression\n",
    "from sklearn import preprocessing\n",
    "from sklearn.linear_model import LinearRegression\n",
    "\n",
    "\n",
    "import warnings\n",
    "warnings.filterwarnings(\"ignore\")\n",
    "from matplotlib import cm"
   ]
  },
  {
   "cell_type": "markdown",
   "id": "c4d05aab",
   "metadata": {},
   "source": [
    "## 导入数据集"
   ]
  },
  {
   "cell_type": "code",
   "execution_count": 48,
   "id": "694a4e0b",
   "metadata": {},
   "outputs": [],
   "source": [
    "homeworkOri = pd.DataFrame(pd.read_csv('../dataset/INvideos.csv'))"
   ]
  },
  {
   "cell_type": "code",
   "execution_count": 49,
   "id": "2119e9fb",
   "metadata": {
    "scrolled": false
   },
   "outputs": [
    {
     "data": {
      "text/html": [
       "<div>\n",
       "<style scoped>\n",
       "    .dataframe tbody tr th:only-of-type {\n",
       "        vertical-align: middle;\n",
       "    }\n",
       "\n",
       "    .dataframe tbody tr th {\n",
       "        vertical-align: top;\n",
       "    }\n",
       "\n",
       "    .dataframe thead th {\n",
       "        text-align: right;\n",
       "    }\n",
       "</style>\n",
       "<table border=\"1\" class=\"dataframe\">\n",
       "  <thead>\n",
       "    <tr style=\"text-align: right;\">\n",
       "      <th></th>\n",
       "      <th>video_id</th>\n",
       "      <th>trending_date</th>\n",
       "      <th>title</th>\n",
       "      <th>channel_title</th>\n",
       "      <th>category_id</th>\n",
       "      <th>publish_time</th>\n",
       "      <th>tags</th>\n",
       "      <th>views</th>\n",
       "      <th>likes</th>\n",
       "      <th>dislikes</th>\n",
       "      <th>comment_count</th>\n",
       "      <th>thumbnail_link</th>\n",
       "      <th>comments_disabled</th>\n",
       "      <th>ratings_disabled</th>\n",
       "      <th>video_error_or_removed</th>\n",
       "      <th>description</th>\n",
       "    </tr>\n",
       "  </thead>\n",
       "  <tbody>\n",
       "    <tr>\n",
       "      <th>0</th>\n",
       "      <td>kzwfHumJyYc</td>\n",
       "      <td>17.14.11</td>\n",
       "      <td>Sharry Mann: Cute Munda ( Song Teaser) | Parmi...</td>\n",
       "      <td>Lokdhun Punjabi</td>\n",
       "      <td>1</td>\n",
       "      <td>2017-11-12T12:20:39.000Z</td>\n",
       "      <td>sharry mann|\"sharry mann new song\"|\"sharry man...</td>\n",
       "      <td>1096327</td>\n",
       "      <td>33966</td>\n",
       "      <td>798</td>\n",
       "      <td>882</td>\n",
       "      <td>https://i.ytimg.com/vi/kzwfHumJyYc/default.jpg</td>\n",
       "      <td>False</td>\n",
       "      <td>False</td>\n",
       "      <td>False</td>\n",
       "      <td>Presenting Sharry Mann latest Punjabi Song  Cu...</td>\n",
       "    </tr>\n",
       "    <tr>\n",
       "      <th>1</th>\n",
       "      <td>zUZ1z7FwLc8</td>\n",
       "      <td>17.14.11</td>\n",
       "      <td>पीरियड्स के समय, पेट पर पति करता ऐसा, देखकर दं...</td>\n",
       "      <td>HJ NEWS</td>\n",
       "      <td>25</td>\n",
       "      <td>2017-11-13T05:43:56.000Z</td>\n",
       "      <td>पीरियड्स के समय|\"पेट पर पति करता ऐसा\"|\"देखकर द...</td>\n",
       "      <td>590101</td>\n",
       "      <td>735</td>\n",
       "      <td>904</td>\n",
       "      <td>0</td>\n",
       "      <td>https://i.ytimg.com/vi/zUZ1z7FwLc8/default.jpg</td>\n",
       "      <td>True</td>\n",
       "      <td>False</td>\n",
       "      <td>False</td>\n",
       "      <td>पीरियड्स के समय, पेट पर पति करता ऐसा, देखकर दं...</td>\n",
       "    </tr>\n",
       "    <tr>\n",
       "      <th>2</th>\n",
       "      <td>10L1hZ9qa58</td>\n",
       "      <td>17.14.11</td>\n",
       "      <td>Stylish Star Allu Arjun @ ChaySam Wedding Rece...</td>\n",
       "      <td>TFPC</td>\n",
       "      <td>24</td>\n",
       "      <td>2017-11-12T15:48:08.000Z</td>\n",
       "      <td>Stylish Star Allu Arjun @ ChaySam Wedding Rece...</td>\n",
       "      <td>473988</td>\n",
       "      <td>2011</td>\n",
       "      <td>243</td>\n",
       "      <td>149</td>\n",
       "      <td>https://i.ytimg.com/vi/10L1hZ9qa58/default.jpg</td>\n",
       "      <td>False</td>\n",
       "      <td>False</td>\n",
       "      <td>False</td>\n",
       "      <td>Watch Stylish Star Allu Arjun @ ChaySam Weddin...</td>\n",
       "    </tr>\n",
       "    <tr>\n",
       "      <th>3</th>\n",
       "      <td>N1vE8iiEg64</td>\n",
       "      <td>17.14.11</td>\n",
       "      <td>Eruma Saani | Tamil vs English</td>\n",
       "      <td>Eruma Saani</td>\n",
       "      <td>23</td>\n",
       "      <td>2017-11-12T07:08:48.000Z</td>\n",
       "      <td>Eruma Saani|\"Tamil Comedy Videos\"|\"Films\"|\"Mov...</td>\n",
       "      <td>1242680</td>\n",
       "      <td>70353</td>\n",
       "      <td>1624</td>\n",
       "      <td>2684</td>\n",
       "      <td>https://i.ytimg.com/vi/N1vE8iiEg64/default.jpg</td>\n",
       "      <td>False</td>\n",
       "      <td>False</td>\n",
       "      <td>False</td>\n",
       "      <td>This video showcases the difference between pe...</td>\n",
       "    </tr>\n",
       "    <tr>\n",
       "      <th>4</th>\n",
       "      <td>kJzGH0PVQHQ</td>\n",
       "      <td>17.14.11</td>\n",
       "      <td>why Samantha became EMOTIONAL @ Samantha naga ...</td>\n",
       "      <td>Filmylooks</td>\n",
       "      <td>24</td>\n",
       "      <td>2017-11-13T01:14:16.000Z</td>\n",
       "      <td>Filmylooks|\"latest news\"|\"telugu movies\"|\"telu...</td>\n",
       "      <td>464015</td>\n",
       "      <td>492</td>\n",
       "      <td>293</td>\n",
       "      <td>66</td>\n",
       "      <td>https://i.ytimg.com/vi/kJzGH0PVQHQ/default.jpg</td>\n",
       "      <td>False</td>\n",
       "      <td>False</td>\n",
       "      <td>False</td>\n",
       "      <td>why Samantha became EMOTIONAL @ Samantha naga ...</td>\n",
       "    </tr>\n",
       "  </tbody>\n",
       "</table>\n",
       "</div>"
      ],
      "text/plain": [
       "      video_id trending_date  \\\n",
       "0  kzwfHumJyYc      17.14.11   \n",
       "1  zUZ1z7FwLc8      17.14.11   \n",
       "2  10L1hZ9qa58      17.14.11   \n",
       "3  N1vE8iiEg64      17.14.11   \n",
       "4  kJzGH0PVQHQ      17.14.11   \n",
       "\n",
       "                                               title    channel_title  \\\n",
       "0  Sharry Mann: Cute Munda ( Song Teaser) | Parmi...  Lokdhun Punjabi   \n",
       "1  पीरियड्स के समय, पेट पर पति करता ऐसा, देखकर दं...          HJ NEWS   \n",
       "2  Stylish Star Allu Arjun @ ChaySam Wedding Rece...             TFPC   \n",
       "3                     Eruma Saani | Tamil vs English      Eruma Saani   \n",
       "4  why Samantha became EMOTIONAL @ Samantha naga ...       Filmylooks   \n",
       "\n",
       "   category_id              publish_time  \\\n",
       "0            1  2017-11-12T12:20:39.000Z   \n",
       "1           25  2017-11-13T05:43:56.000Z   \n",
       "2           24  2017-11-12T15:48:08.000Z   \n",
       "3           23  2017-11-12T07:08:48.000Z   \n",
       "4           24  2017-11-13T01:14:16.000Z   \n",
       "\n",
       "                                                tags    views  likes  \\\n",
       "0  sharry mann|\"sharry mann new song\"|\"sharry man...  1096327  33966   \n",
       "1  पीरियड्स के समय|\"पेट पर पति करता ऐसा\"|\"देखकर द...   590101    735   \n",
       "2  Stylish Star Allu Arjun @ ChaySam Wedding Rece...   473988   2011   \n",
       "3  Eruma Saani|\"Tamil Comedy Videos\"|\"Films\"|\"Mov...  1242680  70353   \n",
       "4  Filmylooks|\"latest news\"|\"telugu movies\"|\"telu...   464015    492   \n",
       "\n",
       "   dislikes  comment_count                                  thumbnail_link  \\\n",
       "0       798            882  https://i.ytimg.com/vi/kzwfHumJyYc/default.jpg   \n",
       "1       904              0  https://i.ytimg.com/vi/zUZ1z7FwLc8/default.jpg   \n",
       "2       243            149  https://i.ytimg.com/vi/10L1hZ9qa58/default.jpg   \n",
       "3      1624           2684  https://i.ytimg.com/vi/N1vE8iiEg64/default.jpg   \n",
       "4       293             66  https://i.ytimg.com/vi/kJzGH0PVQHQ/default.jpg   \n",
       "\n",
       "   comments_disabled  ratings_disabled  video_error_or_removed  \\\n",
       "0              False             False                   False   \n",
       "1               True             False                   False   \n",
       "2              False             False                   False   \n",
       "3              False             False                   False   \n",
       "4              False             False                   False   \n",
       "\n",
       "                                         description  \n",
       "0  Presenting Sharry Mann latest Punjabi Song  Cu...  \n",
       "1  पीरियड्स के समय, पेट पर पति करता ऐसा, देखकर दं...  \n",
       "2  Watch Stylish Star Allu Arjun @ ChaySam Weddin...  \n",
       "3  This video showcases the difference between pe...  \n",
       "4  why Samantha became EMOTIONAL @ Samantha naga ...  "
      ]
     },
     "execution_count": 49,
     "metadata": {},
     "output_type": "execute_result"
    }
   ],
   "source": [
    "homeworkOri.head()"
   ]
  },
  {
   "cell_type": "code",
   "execution_count": 50,
   "id": "badd3022",
   "metadata": {
    "scrolled": false
   },
   "outputs": [
    {
     "name": "stdout",
     "output_type": "stream",
     "text": [
      "<class 'pandas.core.frame.DataFrame'>\n",
      "RangeIndex: 37352 entries, 0 to 37351\n",
      "Data columns (total 16 columns):\n",
      " #   Column                  Non-Null Count  Dtype \n",
      "---  ------                  --------------  ----- \n",
      " 0   video_id                37352 non-null  object\n",
      " 1   trending_date           37352 non-null  object\n",
      " 2   title                   37352 non-null  object\n",
      " 3   channel_title           37352 non-null  object\n",
      " 4   category_id             37352 non-null  int64 \n",
      " 5   publish_time            37352 non-null  object\n",
      " 6   tags                    37352 non-null  object\n",
      " 7   views                   37352 non-null  int64 \n",
      " 8   likes                   37352 non-null  int64 \n",
      " 9   dislikes                37352 non-null  int64 \n",
      " 10  comment_count           37352 non-null  int64 \n",
      " 11  thumbnail_link          37352 non-null  object\n",
      " 12  comments_disabled       37352 non-null  bool  \n",
      " 13  ratings_disabled        37352 non-null  bool  \n",
      " 14  video_error_or_removed  37352 non-null  bool  \n",
      " 15  description             36791 non-null  object\n",
      "dtypes: bool(3), int64(5), object(8)\n",
      "memory usage: 3.8+ MB\n"
     ]
    }
   ],
   "source": [
    "homeworkOri.info()"
   ]
  },
  {
   "cell_type": "markdown",
   "id": "7e09d9bf",
   "metadata": {},
   "source": [
    "## 查看数据属性\n",
    "#### 从数据描述中可以看出数据可以分为如下几类：\n",
    "#### 1. 数值属性 包括 category_id, views, likes, dislikes, comment_count\n",
    "#### 2. 布尔属性 包括 comments_disabled, ratings_disabled, video_error_or_removed\n",
    "#### 3. 其余均是以字符串描述的属性\n",
    "\n",
    "#### 可以看出仅description属性存在缺失值"
   ]
  },
  {
   "cell_type": "code",
   "execution_count": 142,
   "id": "5e63eb87",
   "metadata": {
    "scrolled": true
   },
   "outputs": [
    {
     "name": "stdout",
     "output_type": "stream",
     "text": [
      "              video_id:0 missing values\n",
      "         trending_date:0 missing values\n",
      "                 title:0 missing values\n",
      "         channel_title:0 missing values\n",
      "           category_id:0 missing values\n",
      "          publish_time:0 missing values\n",
      "                  tags:0 missing values\n",
      "                 views:0 missing values\n",
      "                 likes:0 missing values\n",
      "              dislikes:0 missing values\n",
      "         comment_count:0 missing values\n",
      "        thumbnail_link:0 missing values\n",
      "     comments_disabled:0 missing values\n",
      "      ratings_disabled:0 missing values\n",
      "video_error_or_removed:0 missing values\n",
      "           description:0 missing values\n"
     ]
    }
   ],
   "source": [
    "for key in homeworkOri.keys():\n",
    "    print(\"{:>22}:{} missing values\".format(key,homeworkOri[key].isna().sum()))"
   ]
  },
  {
   "cell_type": "markdown",
   "id": "9ad5b1d3",
   "metadata": {},
   "source": [
    "## 标称属性计数(仅是否可评论）"
   ]
  },
  {
   "cell_type": "code",
   "execution_count": 59,
   "id": "a409500a",
   "metadata": {},
   "outputs": [
    {
     "data": {
      "image/png": "[encoded data removed]",
      "text/plain": [
       "<Figure size 1008x720 with 1 Axes>"
      ]
     },
     "metadata": {},
     "output_type": "display_data"
    }
   ],
   "source": [
    "plt.figure(figsize=(14,10))\n",
    "g=sns.countplot('category_id',data=homeworkOri,palette=\"Set1\",order=homeworkOri['category_id'].value_counts().index)\n",
    "g.set_title('count of the video categories',fontsize=15)\n",
    "g.set_ylabel(\"count\",fontsize=12)\n",
    "plt.show()"
   ]
  },
  {
   "cell_type": "markdown",
   "id": "9563399f",
   "metadata": {},
   "source": [
    "## 数值属性五数描述"
   ]
  },
  {
   "cell_type": "code",
   "execution_count": 54,
   "id": "d0e2e1f0",
   "metadata": {},
   "outputs": [
    {
     "data": {
      "text/html": [
       "<div>\n",
       "<style scoped>\n",
       "    .dataframe tbody tr th:only-of-type {\n",
       "        vertical-align: middle;\n",
       "    }\n",
       "\n",
       "    .dataframe tbody tr th {\n",
       "        vertical-align: top;\n",
       "    }\n",
       "\n",
       "    .dataframe thead th {\n",
       "        text-align: right;\n",
       "    }\n",
       "</style>\n",
       "<table border=\"1\" class=\"dataframe\">\n",
       "  <thead>\n",
       "    <tr style=\"text-align: right;\">\n",
       "      <th></th>\n",
       "      <th>dislikes</th>\n",
       "    </tr>\n",
       "  </thead>\n",
       "  <tbody>\n",
       "    <tr>\n",
       "      <th>count</th>\n",
       "      <td>3.735200e+04</td>\n",
       "    </tr>\n",
       "    <tr>\n",
       "      <th>mean</th>\n",
       "      <td>1.665082e+03</td>\n",
       "    </tr>\n",
       "    <tr>\n",
       "      <th>std</th>\n",
       "      <td>1.607617e+04</td>\n",
       "    </tr>\n",
       "    <tr>\n",
       "      <th>min</th>\n",
       "      <td>0.000000e+00</td>\n",
       "    </tr>\n",
       "    <tr>\n",
       "      <th>25%</th>\n",
       "      <td>1.080000e+02</td>\n",
       "    </tr>\n",
       "    <tr>\n",
       "      <th>50%</th>\n",
       "      <td>3.260000e+02</td>\n",
       "    </tr>\n",
       "    <tr>\n",
       "      <th>75%</th>\n",
       "      <td>1.019250e+03</td>\n",
       "    </tr>\n",
       "    <tr>\n",
       "      <th>max</th>\n",
       "      <td>1.545017e+06</td>\n",
       "    </tr>\n",
       "  </tbody>\n",
       "</table>\n",
       "</div>"
      ],
      "text/plain": [
       "           dislikes\n",
       "count  3.735200e+04\n",
       "mean   1.665082e+03\n",
       "std    1.607617e+04\n",
       "min    0.000000e+00\n",
       "25%    1.080000e+02\n",
       "50%    3.260000e+02\n",
       "75%    1.019250e+03\n",
       "max    1.545017e+06"
      ]
     },
     "execution_count": 54,
     "metadata": {},
     "output_type": "execute_result"
    }
   ],
   "source": [
    "dislikes = pd.DataFrame(homework1['dislikes'])\n",
    "dislikes.describe()"
   ]
  },
  {
   "cell_type": "markdown",
   "id": "9d131397",
   "metadata": {},
   "source": [
    "#### 可以看出缺失值个数为0"
   ]
  },
  {
   "cell_type": "code",
   "execution_count": 55,
   "id": "a40ef64f",
   "metadata": {},
   "outputs": [
    {
     "data": {
      "text/plain": [
       "dislikes    0\n",
       "dtype: int64"
      ]
     },
     "execution_count": 55,
     "metadata": {},
     "output_type": "execute_result"
    }
   ],
   "source": [
    "dislikes[dislikes.isna().any(axis=1)].count()"
   ]
  },
  {
   "cell_type": "markdown",
   "id": "9aa54b5c",
   "metadata": {},
   "source": [
    "## 数据可视化"
   ]
  },
  {
   "cell_type": "code",
   "execution_count": 56,
   "id": "fd1817e6",
   "metadata": {},
   "outputs": [
    {
     "data": {
      "image/png": "[encoded data removed]",
      "text/plain": [
       "<Figure size 720x1440 with 5 Axes>"
      ]
     },
     "metadata": {},
     "output_type": "display_data"
    }
   ],
   "source": [
    "fig,plots=plt.subplots(5,1,figsize=(10,20))\n",
    "plots=plots.flatten()\n",
    "labels=['category_id','views','likes','dislikes','comment_count']\n",
    "for i in range(len(labels)):\n",
    "    plots[i]=sns.distplot(homeworkOri[labels[i]],ax=plots[i])\n",
    "    plots[i].set_title(\"distribution of '{}'\".format(labels[i]))\n",
    "\n",
    "plt.tight_layout()"
   ]
  },
  {
   "cell_type": "markdown",
   "id": "f98ebb27",
   "metadata": {},
   "source": [
    "## 可以看出，除了category_id以外，其他的数值属性均存在分布不平衡的状态，因此这里我们进行一步取对数操作来使得分布更平衡，由于原数据集存在0值，因此这里统一加一进行处理"
   ]
  },
  {
   "cell_type": "code",
   "execution_count": 58,
   "id": "c3b4b8b7",
   "metadata": {
    "scrolled": false
   },
   "outputs": [
    {
     "data": {
      "image/png": "[encoded data removed]",
      "text/plain": [
       "<Figure size 720x1440 with 4 Axes>"
      ]
     },
     "metadata": {},
     "output_type": "display_data"
    }
   ],
   "source": [
    "homeworkOri['views']=np.log(homeworkOri['views']+1)\n",
    "homeworkOri['likes']=np.log(homeworkOri['likes']+1)\n",
    "homeworkOri['dislikes']=np.log(homeworkOri['dislikes']+1)\n",
    "homeworkOri['comment_count']=np.log(homeworkOri['comment_count']+1)\n",
    "new_labels=['views','likes','dislikes','comment_count']\n",
    "fig,plots=plt.subplots(4,1,figsize=(10,20))\n",
    "for i in range(len(new_labels)):\n",
    "    plots[i]=sns.distplot(homeworkOri[new_labels[i]],ax=plots[i])\n",
    "    plots[i].set_title(\"distribution of '{}'\".format(new_labels[i]))\n",
    "\n",
    "plt.tight_layout()"
   ]
  },
  {
   "cell_type": "markdown",
   "id": "0ec6dbb6",
   "metadata": {},
   "source": [
    "## 画出盒图"
   ]
  },
  {
   "cell_type": "code",
   "execution_count": 60,
   "id": "d2e7b651",
   "metadata": {},
   "outputs": [],
   "source": [
    "homeworkBox=pd.DataFrame(pd.read_csv('../dataset/INvideos.csv'))"
   ]
  },
  {
   "cell_type": "code",
   "execution_count": 61,
   "id": "171c9de6",
   "metadata": {},
   "outputs": [
    {
     "data": {
      "text/plain": [
       "<AxesSubplot:>"
      ]
     },
     "execution_count": 61,
     "metadata": {},
     "output_type": "execute_result"
    },
    {
     "data": {
      "image/png": "[encoded data removed]",
      "text/plain": [
       "<Figure size 720x720 with 1 Axes>"
      ]
     },
     "metadata": {},
     "output_type": "display_data"
    }
   ],
   "source": [
    "homeworkBox['category_id'].plot.box(figsize=(10,10))"
   ]
  },
  {
   "cell_type": "markdown",
   "id": "74a16c7b",
   "metadata": {},
   "source": [
    "## 根据数据描述，仅description项存在缺失值，采用出现频率最高值对description进行填充"
   ]
  },
  {
   "cell_type": "code",
   "execution_count": 64,
   "id": "9e3ee371",
   "metadata": {},
   "outputs": [],
   "source": [
    "description=pd.DataFrame(homework0['description'])\n",
    "li=description[description.isna().any(axis=1)].index.values.tolist()"
   ]
  },
  {
   "cell_type": "markdown",
   "id": "83ae9d75",
   "metadata": {},
   "source": [
    "#### 获取出现频率最高的description"
   ]
  },
  {
   "cell_type": "code",
   "execution_count": 80,
   "id": "6564396e",
   "metadata": {
    "scrolled": false
   },
   "outputs": [
    {
     "data": {
      "text/plain": [
       "'Subscribers Link: http://bit.ly/2qb69dZ\\\\n\\\\nConnect with Radaan Media online: http://bit.ly/2rGVWHT\\\\n\\\\nVisit our WEBSITE: https://www.radaan.tv\\\\n\\\\nLike us on FACEBOOK: http://bit.ly/2qLmgTm\\\\n\\\\nFollow us on TWITTER: http://bit.ly/2r8gZGD\\\\n\\\\nVAANI RANI SYNOPSIS\\\\nTwin sister’s Vaani and Rani get married to an elder and younger brother of the same family respectively. Vaani the elder one is a well read attorney and the younger one Rani is a failure in education with not even going beyond 10thclass. Though both have extreme ideologies of life Rani is a favorite among neighbors with her uncanny innocent approach. Vaani is a roaring lion at the court room who is looked up as a role model to so many upcoming lawyers for her advocating abilities, whereas Rani is a well versed home maker. Not only with the sisters remain with this extremity but even their respective husband’s share the same dose of luck….Vaani is a mother of 2 children and Rani has three children who are in their teens. Volcanoes of persistent problem erupts now and then between the children too since each of them pertaining to different thought process indulge in living together under one roof as a nuclear family. Their comes a stage when it becomes so difficult to keep the family values intact between the varied problems which keeps cropping making the situation even more complex.\\\\n\\\\nWill Peace ever come back in this family ?\\\\n\\\\nWill anyone give up their Ego for the betterment of the family ?\\\\n\\\\nHead of Creative’s: Radikaa Sarathkumar\\\\n\\\\nStory: Radaan Mediaworks India Ltd,\\\\n\\\\nDirection: O.N. Rathnam\\\\n\\\\nDialogue: Pa. Raghavan\\\\n\\\\nScreen play: S. Kumaresan\\\\n\\\\nCamera: Chellapandian\\\\n\\\\nTitle Song: Sathya\\\\n\\\\nRe-recording: Hari\\\\n\\\\nCast: Radikaa Sarthkumar, Venu Aravind, Babulu, Arun Kumar Rajan, Vicky, Manas, Neelima, Navya, Andrews, Sasikala, Sudha, Niranjani, Gugan, Neha, Ravikumar, Vaani, Mano, Rajkumar, Mithran, Baboos, Sangeetha Balan, Murali, Srilekha, Rajendran, Nandakumar, Joker Thulasi, Tarun Kumar, Kavithalaya Krishnan, Ramachandran, Dharani, Shamly, Sruthi, Ashagu, Nithya Ravinder\\\\n\\\\nAn Icon in Indian Cinema, a top class actress, an incredibly successful entrepreneur and a Versatile Personality R.Radikaa Sarathkumar is indeed a Woman of Substance. She was introduced by Trendsetting Tamil Director Sri. Bharathiraja in his film “Kizhake Pogum Rayil”. Then she pursued acting in Tamil, Telugu, Malayalam, Kannada and Hindi in about 300 films. She has been crowned with Six Film fare Awards, Ten Cinema express awards, Four Tamil Nadu State Awards, Two Andhra state awards, Two Malaysian Film association awards. “Indra Priyadarshini Award” for her outstanding achievement and contribution to the society on the eve of International Women’s day. She is the founder of the Radaan Mediaworks Pvt. India Limited, which has produced serials such as Chitti, Annamalai, Selvi, Arasi, Chellame, and Vaani Rani . She created Historical records by appearing and making her Television soaps “Chithi” “Arasi” and “Annamalai” . At her 18th year of Mega Serial Era, she is winning the hearts of every Tamil Households in India with the latest “Vaani Rani” a double action treat of hers.'"
      ]
     },
     "execution_count": 80,
     "metadata": {},
     "output_type": "execute_result"
    }
   ],
   "source": [
    "freq = homeworkOri.groupby(['description']).count()\n",
    "description_fill = freq.sort_values(by='video_id',ascending=False,axis=0)\n",
    "description_fill=description_fill.index.values[0]\n",
    "description_fill"
   ]
  },
  {
   "cell_type": "markdown",
   "id": "d26a24a5",
   "metadata": {},
   "source": [
    "#### 进行填充"
   ]
  },
  {
   "cell_type": "code",
   "execution_count": 83,
   "id": "de6d7df8",
   "metadata": {},
   "outputs": [],
   "source": [
    "for item in li:\n",
    "    homeworkOri.loc[item,('description')]= description_fill"
   ]
  },
  {
   "cell_type": "code",
   "execution_count": 84,
   "id": "d5da976f",
   "metadata": {},
   "outputs": [
    {
     "data": {
      "text/plain": [
       "24       Subscribers Link: http://bit.ly/2qb69dZ\\n\\nCon...\n",
       "25       Subscribers Link: http://bit.ly/2qb69dZ\\n\\nCon...\n",
       "36       Subscribers Link: http://bit.ly/2qb69dZ\\n\\nCon...\n",
       "78       Subscribers Link: http://bit.ly/2qb69dZ\\n\\nCon...\n",
       "158      Subscribers Link: http://bit.ly/2qb69dZ\\n\\nCon...\n",
       "                               ...                        \n",
       "36936    Subscribers Link: http://bit.ly/2qb69dZ\\n\\nCon...\n",
       "36986    Subscribers Link: http://bit.ly/2qb69dZ\\n\\nCon...\n",
       "37060    Subscribers Link: http://bit.ly/2qb69dZ\\n\\nCon...\n",
       "37115    Subscribers Link: http://bit.ly/2qb69dZ\\n\\nCon...\n",
       "37287    Subscribers Link: http://bit.ly/2qb69dZ\\n\\nCon...\n",
       "Name: description, Length: 561, dtype: object"
      ]
     },
     "execution_count": 84,
     "metadata": {},
     "output_type": "execute_result"
    }
   ],
   "source": [
    "homeworkOri.iloc[li]['description']"
   ]
  },
  {
   "cell_type": "markdown",
   "id": "657da1ec",
   "metadata": {},
   "source": [
    "## 原数据库仅缺失非数值属性，如果要利用属性间的相关关系和数据对象之间的联系填充值，需要人为制造数据缺失"
   ]
  },
  {
   "cell_type": "code",
   "execution_count": 132,
   "id": "d4d060f2",
   "metadata": {},
   "outputs": [
    {
     "data": {
      "text/plain": [
       "video_id                                                        7gShaSuK_PY\n",
       "trending_date                                                      17.14.11\n",
       "title                     ஜெயலலிதாவின் உயில் சிக்கியது  அப்பல்லோ சி.டி.ய...\n",
       "channel_title                                                      Next Gen\n",
       "category_id                                                              22\n",
       "publish_time                                       2017-11-13T06:52:47.000Z\n",
       "tags                      nextgen|\"sasikala\"|\"sasikala natarajan\"|\"aiadm...\n",
       "views                                                                   NaN\n",
       "likes                                                                   238\n",
       "dislikes                                                                 59\n",
       "comment_count                                                            18\n",
       "thumbnail_link               https://i.ytimg.com/vi/7gShaSuK_PY/default.jpg\n",
       "comments_disabled                                                     False\n",
       "ratings_disabled                                                      False\n",
       "video_error_or_removed                                                False\n",
       "description               ஜெயலலிதாவின் உயில் சிக்கியது \\nஅப்பல்லோ சி.டி....\n",
       "Name: 15, dtype: object"
      ]
     },
     "execution_count": 132,
     "metadata": {},
     "output_type": "execute_result"
    }
   ],
   "source": [
    "homework_loss = pd.DataFrame(pd.read_csv('../dataset/INvideos.csv'))\n",
    "homework_loss.loc[15,('views')]=None\n",
    "homework_loss.loc[15]"
   ]
  },
  {
   "cell_type": "markdown",
   "id": "aac918b6",
   "metadata": {},
   "source": [
    "#### 根据元素之间的相关关系进行填充"
   ]
  },
  {
   "cell_type": "code",
   "execution_count": 122,
   "id": "2cd2bea2",
   "metadata": {},
   "outputs": [],
   "source": [
    "numerical_df=homeworkOri[['views','likes','dislikes','comment_count']]"
   ]
  },
  {
   "cell_type": "markdown",
   "id": "05595f13",
   "metadata": {},
   "source": [
    "#### 首先确定几个数值的相关系数，并画出热量图"
   ]
  },
  {
   "cell_type": "code",
   "execution_count": 123,
   "id": "dd66adaa",
   "metadata": {},
   "outputs": [
    {
     "data": {
      "image/png": "[encoded data removed]",
      "text/plain": [
       "<Figure size 432x432 with 2 Axes>"
      ]
     },
     "metadata": {},
     "output_type": "display_data"
    }
   ],
   "source": [
    "corr_matrix=numerical_df.corr()\n",
    "fig,ax=plt.subplots(figsize=(6,6))\n",
    "heatmap=ax.imshow(corr_matrix,interpolation='nearest',cmap=cm.coolwarm)\n",
    "cbar_min=corr_matrix.min().min()\n",
    "cbar_max=corr_matrix.max().max()\n",
    "cbar=fig.colorbar(heatmap,ticks=[cbar_min,cbar_max])\n",
    "\n",
    "labels=['','views','','likes','','dislikes','','comment_count']\n",
    "ax.set_yticklabels(labels,minor=False)\n",
    "ax.set_xticklabels(labels,minor=False)\n",
    "\n",
    "plt.show()"
   ]
  },
  {
   "cell_type": "markdown",
   "id": "1a3241f4",
   "metadata": {},
   "source": [
    "#### 利用一阶线性回归来拟合缺失值，使用未缺失值进行训练，然后利用其余值进行拟合"
   ]
  },
  {
   "cell_type": "code",
   "execution_count": 124,
   "id": "df02fc13",
   "metadata": {},
   "outputs": [],
   "source": [
    "regression=numerical_df.dropna()"
   ]
  },
  {
   "cell_type": "code",
   "execution_count": 125,
   "id": "923be536",
   "metadata": {},
   "outputs": [],
   "source": [
    "min_max_scaler=preprocessing.MinMaxScaler()\n",
    "numerical_scaled=pd.DataFrame(min_max_scaler.fit_transform(numerical_df)).rename(columns={0:'views',1:'likes',2:'dislikes',3:'comment_count'})"
   ]
  },
  {
   "cell_type": "markdown",
   "id": "09713517",
   "metadata": {},
   "source": [
    "#### 利用线性回归模型进行拟合"
   ]
  },
  {
   "cell_type": "code",
   "execution_count": 126,
   "id": "e5326a8e",
   "metadata": {},
   "outputs": [
    {
     "data": {
      "text/plain": [
       "LinearRegression()"
      ]
     },
     "execution_count": 126,
     "metadata": {},
     "output_type": "execute_result"
    }
   ],
   "source": [
    "model=LinearRegression()\n",
    "model.fit(numerical_scaled[['likes','dislikes','comment_count']],numerical_scaled[['views']])"
   ]
  },
  {
   "cell_type": "code",
   "execution_count": 129,
   "id": "27a8a642",
   "metadata": {},
   "outputs": [],
   "source": [
    "for item in [[15]]:\n",
    "    homework_loss.loc[item,('views')]=int(model.predict(np.array(homework_loss.iloc[item][['likes','dislikes','comment_count']]).reshape(-1,3)))"
   ]
  },
  {
   "cell_type": "markdown",
   "id": "3da17975",
   "metadata": {},
   "source": [
    "#### 根据结果可以看出此时已经成功进行了填充"
   ]
  },
  {
   "cell_type": "code",
   "execution_count": 130,
   "id": "d825b207",
   "metadata": {
    "scrolled": true
   },
   "outputs": [
    {
     "data": {
      "text/plain": [
       "video_id                                                        7gShaSuK_PY\n",
       "trending_date                                                      17.14.11\n",
       "title                     ஜெயலலிதாவின் உயில் சிக்கியது  அப்பல்லோ சி.டி.ய...\n",
       "channel_title                                                      Next Gen\n",
       "category_id                                                              22\n",
       "publish_time                                       2017-11-13T06:52:47.000Z\n",
       "tags                      nextgen|\"sasikala\"|\"sasikala natarajan\"|\"aiadm...\n",
       "views                                                                  32.0\n",
       "likes                                                                   238\n",
       "dislikes                                                                 59\n",
       "comment_count                                                            18\n",
       "thumbnail_link               https://i.ytimg.com/vi/7gShaSuK_PY/default.jpg\n",
       "comments_disabled                                                     False\n",
       "ratings_disabled                                                      False\n",
       "video_error_or_removed                                                False\n",
       "description               ஜெயலலிதாவின் உயில் சிக்கியது \\nஅப்பல்லோ சி.டி....\n",
       "Name: 15, dtype: object"
      ]
     },
     "execution_count": 130,
     "metadata": {},
     "output_type": "execute_result"
    }
   ],
   "source": [
    "homework_loss.loc[15]"
   ]
  },
  {
   "cell_type": "markdown",
   "id": "fd2d3f96",
   "metadata": {},
   "source": [
    "#### 利用对象之间的相似性来进行填充"
   ]
  },
  {
   "cell_type": "code",
   "execution_count": 133,
   "id": "97344edd",
   "metadata": {},
   "outputs": [
    {
     "data": {
      "text/plain": [
       "video_id                                                        7gShaSuK_PY\n",
       "trending_date                                                      17.14.11\n",
       "title                     ஜெயலலிதாவின் உயில் சிக்கியது  அப்பல்லோ சி.டி.ய...\n",
       "channel_title                                                      Next Gen\n",
       "category_id                                                              22\n",
       "publish_time                                       2017-11-13T06:52:47.000Z\n",
       "tags                      nextgen|\"sasikala\"|\"sasikala natarajan\"|\"aiadm...\n",
       "views                                                                   NaN\n",
       "likes                                                                   238\n",
       "dislikes                                                                 59\n",
       "comment_count                                                            18\n",
       "thumbnail_link               https://i.ytimg.com/vi/7gShaSuK_PY/default.jpg\n",
       "comments_disabled                                                     False\n",
       "ratings_disabled                                                      False\n",
       "video_error_or_removed                                                False\n",
       "description               ஜெயலலிதாவின் உயில் சிக்கியது \\nஅப்பல்லோ சி.டி....\n",
       "Name: 15, dtype: object"
      ]
     },
     "execution_count": 133,
     "metadata": {},
     "output_type": "execute_result"
    }
   ],
   "source": [
    "homework_loss = pd.DataFrame(pd.read_csv('../dataset/INvideos.csv'))\n",
    "homework_loss.loc[15,('views')]=None\n",
    "homework_loss.loc[15]"
   ]
  },
  {
   "cell_type": "code",
   "execution_count": 136,
   "id": "cf244f23",
   "metadata": {},
   "outputs": [],
   "source": [
    "numerical_df=pd.DataFrame(pd.read_csv('../dataset/INvideos.csv'))[['views','likes','dislikes','comment_count']]"
   ]
  },
  {
   "cell_type": "code",
   "execution_count": 137,
   "id": "3833fbe6",
   "metadata": {},
   "outputs": [],
   "source": [
    "from sklearn.impute import KNNImputer\n",
    "imputer=KNNImputer(n_neighbors=4,weights='uniform')\n",
    "x=pd.DataFrame(imputer.fit_transform(numerical_df))\n",
    "x=x.rename(columns={0:'likes',1:'dislikes',2:'category_id',3:'views',4:'comment_count'})"
   ]
  },
  {
   "cell_type": "code",
   "execution_count": 138,
   "id": "4de28a97",
   "metadata": {},
   "outputs": [
    {
     "data": {
      "text/plain": [
       "likes          89531.0\n",
       "dislikes         238.0\n",
       "category_id       59.0\n",
       "views             18.0\n",
       "Name: 15, dtype: float64"
      ]
     },
     "execution_count": 138,
     "metadata": {},
     "output_type": "execute_result"
    }
   ],
   "source": [
    "x.loc[15]"
   ]
  },
  {
   "cell_type": "code",
   "execution_count": null,
   "id": "ec117680",
   "metadata": {},
   "outputs": [],
   "source": []
  },
  {
   "cell_type": "markdown",
   "id": "09105f54",
   "metadata": {},
   "source": [
    "## 数据集2：wine Reviews"
   ]
  },
  {
   "cell_type": "code",
   "execution_count": 8,
   "id": "7d9ac01d",
   "metadata": {},
   "outputs": [],
   "source": [
    "wineOri = pd.DataFrame(pd.read_csv('../dataset/wine/winemag-data_first150k.csv'))"
   ]
  },
  {
   "cell_type": "markdown",
   "id": "1aa4b2ec",
   "metadata": {},
   "source": [
    "## 查看数据集基本信息"
   ]
  },
  {
   "cell_type": "code",
   "execution_count": 9,
   "id": "e6e52514",
   "metadata": {
    "scrolled": false
   },
   "outputs": [
    {
     "name": "stdout",
     "output_type": "stream",
     "text": [
      "<class 'pandas.core.frame.DataFrame'>\n",
      "RangeIndex: 150930 entries, 0 to 150929\n",
      "Data columns (total 11 columns):\n",
      " #   Column       Non-Null Count   Dtype  \n",
      "---  ------       --------------   -----  \n",
      " 0   Unnamed: 0   150930 non-null  int64  \n",
      " 1   country      150925 non-null  object \n",
      " 2   description  150930 non-null  object \n",
      " 3   designation  105195 non-null  object \n",
      " 4   points       150930 non-null  int64  \n",
      " 5   price        137235 non-null  float64\n",
      " 6   province     150925 non-null  object \n",
      " 7   region_1     125870 non-null  object \n",
      " 8   region_2     60953 non-null   object \n",
      " 9   variety      150930 non-null  object \n",
      " 10  winery       150930 non-null  object \n",
      "dtypes: float64(1), int64(2), object(8)\n",
      "memory usage: 12.7+ MB\n"
     ]
    }
   ],
   "source": [
    "wineOri.info()"
   ]
  },
  {
   "cell_type": "code",
   "execution_count": 10,
   "id": "c50f9130",
   "metadata": {
    "scrolled": true
   },
   "outputs": [
    {
     "data": {
      "text/html": [
       "<div>\n",
       "<style scoped>\n",
       "    .dataframe tbody tr th:only-of-type {\n",
       "        vertical-align: middle;\n",
       "    }\n",
       "\n",
       "    .dataframe tbody tr th {\n",
       "        vertical-align: top;\n",
       "    }\n",
       "\n",
       "    .dataframe thead th {\n",
       "        text-align: right;\n",
       "    }\n",
       "</style>\n",
       "<table border=\"1\" class=\"dataframe\">\n",
       "  <thead>\n",
       "    <tr style=\"text-align: right;\">\n",
       "      <th></th>\n",
       "      <th>Unnamed: 0</th>\n",
       "      <th>country</th>\n",
       "      <th>description</th>\n",
       "      <th>designation</th>\n",
       "      <th>points</th>\n",
       "      <th>price</th>\n",
       "      <th>province</th>\n",
       "      <th>region_1</th>\n",
       "      <th>region_2</th>\n",
       "      <th>variety</th>\n",
       "      <th>winery</th>\n",
       "    </tr>\n",
       "  </thead>\n",
       "  <tbody>\n",
       "    <tr>\n",
       "      <th>0</th>\n",
       "      <td>0</td>\n",
       "      <td>US</td>\n",
       "      <td>This tremendous 100% varietal wine hails from ...</td>\n",
       "      <td>Martha's Vineyard</td>\n",
       "      <td>96</td>\n",
       "      <td>235.0</td>\n",
       "      <td>California</td>\n",
       "      <td>Napa Valley</td>\n",
       "      <td>Napa</td>\n",
       "      <td>Cabernet Sauvignon</td>\n",
       "      <td>Heitz</td>\n",
       "    </tr>\n",
       "    <tr>\n",
       "      <th>1</th>\n",
       "      <td>1</td>\n",
       "      <td>Spain</td>\n",
       "      <td>Ripe aromas of fig, blackberry and cassis are ...</td>\n",
       "      <td>Carodorum Selección Especial Reserva</td>\n",
       "      <td>96</td>\n",
       "      <td>110.0</td>\n",
       "      <td>Northern Spain</td>\n",
       "      <td>Toro</td>\n",
       "      <td>NaN</td>\n",
       "      <td>Tinta de Toro</td>\n",
       "      <td>Bodega Carmen Rodríguez</td>\n",
       "    </tr>\n",
       "    <tr>\n",
       "      <th>2</th>\n",
       "      <td>2</td>\n",
       "      <td>US</td>\n",
       "      <td>Mac Watson honors the memory of a wine once ma...</td>\n",
       "      <td>Special Selected Late Harvest</td>\n",
       "      <td>96</td>\n",
       "      <td>90.0</td>\n",
       "      <td>California</td>\n",
       "      <td>Knights Valley</td>\n",
       "      <td>Sonoma</td>\n",
       "      <td>Sauvignon Blanc</td>\n",
       "      <td>Macauley</td>\n",
       "    </tr>\n",
       "    <tr>\n",
       "      <th>3</th>\n",
       "      <td>3</td>\n",
       "      <td>US</td>\n",
       "      <td>This spent 20 months in 30% new French oak, an...</td>\n",
       "      <td>Reserve</td>\n",
       "      <td>96</td>\n",
       "      <td>65.0</td>\n",
       "      <td>Oregon</td>\n",
       "      <td>Willamette Valley</td>\n",
       "      <td>Willamette Valley</td>\n",
       "      <td>Pinot Noir</td>\n",
       "      <td>Ponzi</td>\n",
       "    </tr>\n",
       "    <tr>\n",
       "      <th>4</th>\n",
       "      <td>4</td>\n",
       "      <td>France</td>\n",
       "      <td>This is the top wine from La Bégude, named aft...</td>\n",
       "      <td>La Brûlade</td>\n",
       "      <td>95</td>\n",
       "      <td>66.0</td>\n",
       "      <td>Provence</td>\n",
       "      <td>Bandol</td>\n",
       "      <td>NaN</td>\n",
       "      <td>Provence red blend</td>\n",
       "      <td>Domaine de la Bégude</td>\n",
       "    </tr>\n",
       "  </tbody>\n",
       "</table>\n",
       "</div>"
      ],
      "text/plain": [
       "   Unnamed: 0 country                                        description  \\\n",
       "0           0      US  This tremendous 100% varietal wine hails from ...   \n",
       "1           1   Spain  Ripe aromas of fig, blackberry and cassis are ...   \n",
       "2           2      US  Mac Watson honors the memory of a wine once ma...   \n",
       "3           3      US  This spent 20 months in 30% new French oak, an...   \n",
       "4           4  France  This is the top wine from La Bégude, named aft...   \n",
       "\n",
       "                            designation  points  price        province  \\\n",
       "0                     Martha's Vineyard      96  235.0      California   \n",
       "1  Carodorum Selección Especial Reserva      96  110.0  Northern Spain   \n",
       "2         Special Selected Late Harvest      96   90.0      California   \n",
       "3                               Reserve      96   65.0          Oregon   \n",
       "4                            La Brûlade      95   66.0        Provence   \n",
       "\n",
       "            region_1           region_2             variety  \\\n",
       "0        Napa Valley               Napa  Cabernet Sauvignon   \n",
       "1               Toro                NaN       Tinta de Toro   \n",
       "2     Knights Valley             Sonoma     Sauvignon Blanc   \n",
       "3  Willamette Valley  Willamette Valley          Pinot Noir   \n",
       "4             Bandol                NaN  Provence red blend   \n",
       "\n",
       "                    winery  \n",
       "0                    Heitz  \n",
       "1  Bodega Carmen Rodríguez  \n",
       "2                 Macauley  \n",
       "3                    Ponzi  \n",
       "4     Domaine de la Bégude  "
      ]
     },
     "execution_count": 10,
     "metadata": {},
     "output_type": "execute_result"
    }
   ],
   "source": [
    "wineOri.head()"
   ]
  },
  {
   "cell_type": "markdown",
   "id": "7f255d48",
   "metadata": {},
   "source": [
    "#### 获取标称属性每个可能取值的频数"
   ]
  },
  {
   "cell_type": "code",
   "execution_count": 45,
   "id": "5e6957b2",
   "metadata": {},
   "outputs": [
    {
     "name": "stdout",
     "output_type": "stream",
     "text": [
      "US                        62397\n",
      "Italy                     23478\n",
      "France                    21098\n",
      "Spain                      8268\n",
      "Chile                      5816\n",
      "Argentina                  5631\n",
      "Portugal                   5322\n",
      "Australia                  4957\n",
      "New Zealand                3320\n",
      "Austria                    3057\n",
      "Germany                    2452\n",
      "South Africa               2258\n",
      "Greece                      884\n",
      "Israel                      630\n",
      "Hungary                     231\n",
      "Canada                      196\n",
      "Romania                     139\n",
      "Slovenia                     94\n",
      "Uruguay                      92\n",
      "Croatia                      89\n",
      "Bulgaria                     77\n",
      "Moldova                      71\n",
      "Mexico                       63\n",
      "Turkey                       52\n",
      "Georgia                      43\n",
      "Lebanon                      37\n",
      "Cyprus                       31\n",
      "Brazil                       25\n",
      "Macedonia                    16\n",
      "Serbia                       14\n",
      "Morocco                      12\n",
      "England                       9\n",
      "Luxembourg                    9\n",
      "Lithuania                     8\n",
      "India                         8\n",
      "Czech Republic                6\n",
      "Ukraine                       5\n",
      "Switzerland                   4\n",
      "South Korea                   4\n",
      "Bosnia and Herzegovina        4\n",
      "China                         3\n",
      "Egypt                         3\n",
      "Slovakia                      3\n",
      "Tunisia                       2\n",
      "Albania                       2\n",
      "Montenegro                    2\n",
      "Japan                         2\n",
      "US-France                     1\n",
      "Name: country, dtype: int64\n"
     ]
    }
   ],
   "source": [
    "print(wineOri['country'].value_counts())"
   ]
  },
  {
   "cell_type": "markdown",
   "id": "800c5ba2",
   "metadata": {},
   "source": [
    "## 将标称属性从str类型转化为数值类型，便于后续处理"
   ]
  },
  {
   "cell_type": "code",
   "execution_count": 12,
   "id": "55dba94b",
   "metadata": {},
   "outputs": [],
   "source": [
    "li=pd.DataFrame(wineOri.country.value_counts(dropna=True)).index.values\n",
    "dic={}\n",
    "i=0\n",
    "for item in li:\n",
    "    dic[item]=i\n",
    "    i=i+1\n",
    "    \n",
    "wineOri['country_id'] = wineOri['country'].map(dic)"
   ]
  },
  {
   "cell_type": "code",
   "execution_count": 14,
   "id": "ff92bf63",
   "metadata": {},
   "outputs": [],
   "source": [
    "li=pd.DataFrame(wineOri.province.value_counts(dropna=True)).index.values\n",
    "dic={}\n",
    "i=0\n",
    "for item in li:\n",
    "    dic[item]=i\n",
    "    i=i+1\n",
    "wineOri['province_id'] = wineOri['province'].map(dic)"
   ]
  },
  {
   "cell_type": "code",
   "execution_count": 16,
   "id": "0adcb214",
   "metadata": {},
   "outputs": [
    {
     "data": {
      "text/html": [
       "<div>\n",
       "<style scoped>\n",
       "    .dataframe tbody tr th:only-of-type {\n",
       "        vertical-align: middle;\n",
       "    }\n",
       "\n",
       "    .dataframe tbody tr th {\n",
       "        vertical-align: top;\n",
       "    }\n",
       "\n",
       "    .dataframe thead th {\n",
       "        text-align: right;\n",
       "    }\n",
       "</style>\n",
       "<table border=\"1\" class=\"dataframe\">\n",
       "  <thead>\n",
       "    <tr style=\"text-align: right;\">\n",
       "      <th></th>\n",
       "      <th>Unnamed: 0</th>\n",
       "      <th>country</th>\n",
       "      <th>description</th>\n",
       "      <th>designation</th>\n",
       "      <th>points</th>\n",
       "      <th>price</th>\n",
       "      <th>province</th>\n",
       "      <th>region_1</th>\n",
       "      <th>region_2</th>\n",
       "      <th>variety</th>\n",
       "      <th>winery</th>\n",
       "      <th>country_id</th>\n",
       "      <th>province_id</th>\n",
       "    </tr>\n",
       "  </thead>\n",
       "  <tbody>\n",
       "    <tr>\n",
       "      <th>0</th>\n",
       "      <td>0</td>\n",
       "      <td>US</td>\n",
       "      <td>This tremendous 100% varietal wine hails from ...</td>\n",
       "      <td>Martha's Vineyard</td>\n",
       "      <td>96</td>\n",
       "      <td>235.0</td>\n",
       "      <td>California</td>\n",
       "      <td>Napa Valley</td>\n",
       "      <td>Napa</td>\n",
       "      <td>Cabernet Sauvignon</td>\n",
       "      <td>Heitz</td>\n",
       "      <td>0.0</td>\n",
       "      <td>0.0</td>\n",
       "    </tr>\n",
       "    <tr>\n",
       "      <th>1</th>\n",
       "      <td>1</td>\n",
       "      <td>Spain</td>\n",
       "      <td>Ripe aromas of fig, blackberry and cassis are ...</td>\n",
       "      <td>Carodorum Selección Especial Reserva</td>\n",
       "      <td>96</td>\n",
       "      <td>110.0</td>\n",
       "      <td>Northern Spain</td>\n",
       "      <td>Toro</td>\n",
       "      <td>NaN</td>\n",
       "      <td>Tinta de Toro</td>\n",
       "      <td>Bodega Carmen Rodríguez</td>\n",
       "      <td>3.0</td>\n",
       "      <td>4.0</td>\n",
       "    </tr>\n",
       "    <tr>\n",
       "      <th>2</th>\n",
       "      <td>2</td>\n",
       "      <td>US</td>\n",
       "      <td>Mac Watson honors the memory of a wine once ma...</td>\n",
       "      <td>Special Selected Late Harvest</td>\n",
       "      <td>96</td>\n",
       "      <td>90.0</td>\n",
       "      <td>California</td>\n",
       "      <td>Knights Valley</td>\n",
       "      <td>Sonoma</td>\n",
       "      <td>Sauvignon Blanc</td>\n",
       "      <td>Macauley</td>\n",
       "      <td>0.0</td>\n",
       "      <td>0.0</td>\n",
       "    </tr>\n",
       "    <tr>\n",
       "      <th>3</th>\n",
       "      <td>3</td>\n",
       "      <td>US</td>\n",
       "      <td>This spent 20 months in 30% new French oak, an...</td>\n",
       "      <td>Reserve</td>\n",
       "      <td>96</td>\n",
       "      <td>65.0</td>\n",
       "      <td>Oregon</td>\n",
       "      <td>Willamette Valley</td>\n",
       "      <td>Willamette Valley</td>\n",
       "      <td>Pinot Noir</td>\n",
       "      <td>Ponzi</td>\n",
       "      <td>0.0</td>\n",
       "      <td>6.0</td>\n",
       "    </tr>\n",
       "    <tr>\n",
       "      <th>4</th>\n",
       "      <td>4</td>\n",
       "      <td>France</td>\n",
       "      <td>This is the top wine from La Bégude, named aft...</td>\n",
       "      <td>La Brûlade</td>\n",
       "      <td>95</td>\n",
       "      <td>66.0</td>\n",
       "      <td>Provence</td>\n",
       "      <td>Bandol</td>\n",
       "      <td>NaN</td>\n",
       "      <td>Provence red blend</td>\n",
       "      <td>Domaine de la Bégude</td>\n",
       "      <td>2.0</td>\n",
       "      <td>26.0</td>\n",
       "    </tr>\n",
       "  </tbody>\n",
       "</table>\n",
       "</div>"
      ],
      "text/plain": [
       "   Unnamed: 0 country                                        description  \\\n",
       "0           0      US  This tremendous 100% varietal wine hails from ...   \n",
       "1           1   Spain  Ripe aromas of fig, blackberry and cassis are ...   \n",
       "2           2      US  Mac Watson honors the memory of a wine once ma...   \n",
       "3           3      US  This spent 20 months in 30% new French oak, an...   \n",
       "4           4  France  This is the top wine from La Bégude, named aft...   \n",
       "\n",
       "                            designation  points  price        province  \\\n",
       "0                     Martha's Vineyard      96  235.0      California   \n",
       "1  Carodorum Selección Especial Reserva      96  110.0  Northern Spain   \n",
       "2         Special Selected Late Harvest      96   90.0      California   \n",
       "3                               Reserve      96   65.0          Oregon   \n",
       "4                            La Brûlade      95   66.0        Provence   \n",
       "\n",
       "            region_1           region_2             variety  \\\n",
       "0        Napa Valley               Napa  Cabernet Sauvignon   \n",
       "1               Toro                NaN       Tinta de Toro   \n",
       "2     Knights Valley             Sonoma     Sauvignon Blanc   \n",
       "3  Willamette Valley  Willamette Valley          Pinot Noir   \n",
       "4             Bandol                NaN  Provence red blend   \n",
       "\n",
       "                    winery  country_id  province_id  \n",
       "0                    Heitz         0.0          0.0  \n",
       "1  Bodega Carmen Rodríguez         3.0          4.0  \n",
       "2                 Macauley         0.0          0.0  \n",
       "3                    Ponzi         0.0          6.0  \n",
       "4     Domaine de la Bégude         2.0         26.0  "
      ]
     },
     "execution_count": 16,
     "metadata": {},
     "output_type": "execute_result"
    }
   ],
   "source": [
    "wineOri.head()"
   ]
  },
  {
   "cell_type": "markdown",
   "id": "25d6522a",
   "metadata": {},
   "source": [
    "## 选取数值属性price"
   ]
  },
  {
   "cell_type": "markdown",
   "id": "2c2e90cb",
   "metadata": {},
   "source": [
    "#### 获取五数属性"
   ]
  },
  {
   "cell_type": "code",
   "execution_count": 17,
   "id": "de3b5393",
   "metadata": {},
   "outputs": [
    {
     "data": {
      "text/html": [
       "<div>\n",
       "<style scoped>\n",
       "    .dataframe tbody tr th:only-of-type {\n",
       "        vertical-align: middle;\n",
       "    }\n",
       "\n",
       "    .dataframe tbody tr th {\n",
       "        vertical-align: top;\n",
       "    }\n",
       "\n",
       "    .dataframe thead th {\n",
       "        text-align: right;\n",
       "    }\n",
       "</style>\n",
       "<table border=\"1\" class=\"dataframe\">\n",
       "  <thead>\n",
       "    <tr style=\"text-align: right;\">\n",
       "      <th></th>\n",
       "      <th>price</th>\n",
       "    </tr>\n",
       "  </thead>\n",
       "  <tbody>\n",
       "    <tr>\n",
       "      <th>count</th>\n",
       "      <td>137235.000000</td>\n",
       "    </tr>\n",
       "    <tr>\n",
       "      <th>mean</th>\n",
       "      <td>33.131482</td>\n",
       "    </tr>\n",
       "    <tr>\n",
       "      <th>std</th>\n",
       "      <td>36.322536</td>\n",
       "    </tr>\n",
       "    <tr>\n",
       "      <th>min</th>\n",
       "      <td>4.000000</td>\n",
       "    </tr>\n",
       "    <tr>\n",
       "      <th>25%</th>\n",
       "      <td>16.000000</td>\n",
       "    </tr>\n",
       "    <tr>\n",
       "      <th>50%</th>\n",
       "      <td>24.000000</td>\n",
       "    </tr>\n",
       "    <tr>\n",
       "      <th>75%</th>\n",
       "      <td>40.000000</td>\n",
       "    </tr>\n",
       "    <tr>\n",
       "      <th>max</th>\n",
       "      <td>2300.000000</td>\n",
       "    </tr>\n",
       "  </tbody>\n",
       "</table>\n",
       "</div>"
      ],
      "text/plain": [
       "               price\n",
       "count  137235.000000\n",
       "mean       33.131482\n",
       "std        36.322536\n",
       "min         4.000000\n",
       "25%        16.000000\n",
       "50%        24.000000\n",
       "75%        40.000000\n",
       "max      2300.000000"
      ]
     },
     "execution_count": 17,
     "metadata": {},
     "output_type": "execute_result"
    }
   ],
   "source": [
    "wine_price = pd.DataFrame(wineOri['price'])\n",
    "wine_price.describe()"
   ]
  },
  {
   "cell_type": "markdown",
   "id": "0954a12c",
   "metadata": {},
   "source": [
    "#### 统计缺失值个数"
   ]
  },
  {
   "cell_type": "code",
   "execution_count": 35,
   "id": "3605d759",
   "metadata": {
    "scrolled": true
   },
   "outputs": [
    {
     "data": {
      "text/plain": [
       "13695"
      ]
     },
     "execution_count": 35,
     "metadata": {},
     "output_type": "execute_result"
    }
   ],
   "source": [
    "wine_price[wine_price.isna().any(axis=1)].shape[0]"
   ]
  },
  {
   "cell_type": "markdown",
   "id": "820246f5",
   "metadata": {},
   "source": [
    "## 数据可视化"
   ]
  },
  {
   "cell_type": "markdown",
   "id": "897aa8b8",
   "metadata": {},
   "source": [
    "#### 获取数值属性直方图"
   ]
  },
  {
   "cell_type": "code",
   "execution_count": 20,
   "id": "0125bcdd",
   "metadata": {},
   "outputs": [
    {
     "data": {
      "image/png": "[encoded data removed]",
      "text/plain": [
       "<Figure size 720x1440 with 2 Axes>"
      ]
     },
     "metadata": {},
     "output_type": "display_data"
    }
   ],
   "source": [
    "new_labels=['points','price']\n",
    "fig,plots=plt.subplots(2,1,figsize=(10,20))\n",
    "for i in range(len(new_labels)):\n",
    "    plots[i]=sns.distplot(wineOri[new_labels[i]],ax=plots[i],kde=False)\n",
    "    plots[i].set_title(\"distribution of '{}'\".format(new_labels[i]))\n",
    "\n",
    "plt.tight_layout()"
   ]
  },
  {
   "cell_type": "markdown",
   "id": "d654adf2",
   "metadata": {},
   "source": [
    "#### price数据是长尾分布，因此对其进行加1取对数操作使得分布更加均匀"
   ]
  },
  {
   "cell_type": "code",
   "execution_count": 21,
   "id": "0d5d7651",
   "metadata": {},
   "outputs": [],
   "source": [
    "wineOri['price']=np.log(wineOri['price']+1)"
   ]
  },
  {
   "cell_type": "code",
   "execution_count": 22,
   "id": "516be17f",
   "metadata": {},
   "outputs": [
    {
     "data": {
      "image/png": "[encoded data removed]",
      "text/plain": [
       "<Figure size 720x1440 with 2 Axes>"
      ]
     },
     "metadata": {},
     "output_type": "display_data"
    }
   ],
   "source": [
    "new_labels=['points','price']\n",
    "fig,plots=plt.subplots(2,1,figsize=(10,20))\n",
    "for i in range(len(new_labels)):\n",
    "    plots[i]=sns.distplot(wineOri[new_labels[i]],ax=plots[i],kde=False)\n",
    "    plots[i].set_title(\"distribution of '{}'\".format(new_labels[i]))\n",
    "\n",
    "plt.tight_layout()"
   ]
  },
  {
   "cell_type": "markdown",
   "id": "f7ff24fd",
   "metadata": {},
   "source": [
    "#### 获取price属性和points的盒图形"
   ]
  },
  {
   "cell_type": "code",
   "execution_count": 23,
   "id": "1444b783",
   "metadata": {
    "scrolled": false
   },
   "outputs": [
    {
     "data": {
      "text/plain": [
       "<AxesSubplot:>"
      ]
     },
     "execution_count": 23,
     "metadata": {},
     "output_type": "execute_result"
    },
    {
     "data": {
      "image/png": "[encoded data removed]",
      "text/plain": [
       "<Figure size 720x720 with 1 Axes>"
      ]
     },
     "metadata": {},
     "output_type": "display_data"
    }
   ],
   "source": [
    "wineOri['price'].plot.box(figsize=(10,10))"
   ]
  },
  {
   "cell_type": "code",
   "execution_count": 24,
   "id": "f931c58b",
   "metadata": {},
   "outputs": [
    {
     "data": {
      "text/plain": [
       "<AxesSubplot:>"
      ]
     },
     "execution_count": 24,
     "metadata": {},
     "output_type": "execute_result"
    },
    {
     "data": {
      "image/png": "[encoded data removed]",
      "text/plain": [
       "<Figure size 720x720 with 1 Axes>"
      ]
     },
     "metadata": {},
     "output_type": "display_data"
    }
   ],
   "source": [
    "wineOri['points'].plot.box(figsize=(10,10))"
   ]
  },
  {
   "cell_type": "markdown",
   "id": "8964d518",
   "metadata": {},
   "source": [
    "## 进行缺失值处理"
   ]
  },
  {
   "cell_type": "markdown",
   "id": "1bc30947",
   "metadata": {},
   "source": [
    "#### 直接删除缺失值"
   ]
  },
  {
   "cell_type": "code",
   "execution_count": 25,
   "id": "834c954d",
   "metadata": {},
   "outputs": [],
   "source": [
    "import copy\n",
    "wine_fill = copy.deepcopy(wineOri)\n",
    "dropNan=wine_fill.dropna()"
   ]
  },
  {
   "cell_type": "markdown",
   "id": "58356433",
   "metadata": {},
   "source": [
    "#### 可以看到此时缺失值已经全部剔除"
   ]
  },
  {
   "cell_type": "code",
   "execution_count": 26,
   "id": "84bf14ea",
   "metadata": {
    "scrolled": true
   },
   "outputs": [
    {
     "data": {
      "text/plain": [
       "0"
      ]
     },
     "execution_count": 26,
     "metadata": {},
     "output_type": "execute_result"
    }
   ],
   "source": [
    "dropNan[dropNan.isna().any(axis=1)].shape[0]"
   ]
  },
  {
   "cell_type": "markdown",
   "id": "d75f5cec",
   "metadata": {},
   "source": [
    "#### 获取出现频率最高的price进行缺失值填充"
   ]
  },
  {
   "cell_type": "code",
   "execution_count": 28,
   "id": "ed272789",
   "metadata": {},
   "outputs": [
    {
     "data": {
      "text/plain": [
       "3.044522437723423"
      ]
     },
     "execution_count": 28,
     "metadata": {},
     "output_type": "execute_result"
    }
   ],
   "source": [
    "price_freq = wineOri.groupby(['price']).count()\n",
    "price_freqList = price_freq.sort_values(by = 'country',ascending=False,axis=0)\n",
    "re_price = price_freqList.index[0]\n",
    "re_price"
   ]
  },
  {
   "cell_type": "markdown",
   "id": "5abf952e",
   "metadata": {},
   "source": [
    "#### 获取缺失值所在索引并进行填充"
   ]
  },
  {
   "cell_type": "code",
   "execution_count": 30,
   "id": "05aef1bf",
   "metadata": {},
   "outputs": [],
   "source": [
    "lost_price = pd.DataFrame(wineOri['price'])\n",
    "lost_priceList = lost_price[lost_price.isna().any(axis=1)].index.values.tolist()\n",
    "for item in lost_priceList:\n",
    "    wine_fill.loc[item,('price')]=re_price"
   ]
  },
  {
   "cell_type": "markdown",
   "id": "11aeabd9",
   "metadata": {},
   "source": [
    "#### 可以看出此时缺失值已经填充"
   ]
  },
  {
   "cell_type": "code",
   "execution_count": 31,
   "id": "95c17b10",
   "metadata": {
    "scrolled": true
   },
   "outputs": [
    {
     "data": {
      "text/plain": [
       "32        3.044522\n",
       "56        3.044522\n",
       "72        3.044522\n",
       "82        3.044522\n",
       "116       3.044522\n",
       "            ...   \n",
       "150377    3.044522\n",
       "150378    3.044522\n",
       "150587    3.044522\n",
       "150673    3.044522\n",
       "150922    3.044522\n",
       "Name: price, Length: 13695, dtype: float64"
      ]
     },
     "execution_count": 31,
     "metadata": {},
     "output_type": "execute_result"
    }
   ],
   "source": [
    "wine_fill.loc[lost_priceList]['price']"
   ]
  },
  {
   "cell_type": "markdown",
   "id": "3f342d22",
   "metadata": {},
   "source": [
    "#### 获取原dataframe中的数值属性"
   ]
  },
  {
   "cell_type": "code",
   "execution_count": 33,
   "id": "8bcdb689",
   "metadata": {},
   "outputs": [
    {
     "data": {
      "text/html": [
       "<div>\n",
       "<style scoped>\n",
       "    .dataframe tbody tr th:only-of-type {\n",
       "        vertical-align: middle;\n",
       "    }\n",
       "\n",
       "    .dataframe tbody tr th {\n",
       "        vertical-align: top;\n",
       "    }\n",
       "\n",
       "    .dataframe thead th {\n",
       "        text-align: right;\n",
       "    }\n",
       "</style>\n",
       "<table border=\"1\" class=\"dataframe\">\n",
       "  <thead>\n",
       "    <tr style=\"text-align: right;\">\n",
       "      <th></th>\n",
       "      <th>points</th>\n",
       "      <th>price</th>\n",
       "      <th>country_id</th>\n",
       "      <th>province_id</th>\n",
       "    </tr>\n",
       "  </thead>\n",
       "  <tbody>\n",
       "    <tr>\n",
       "      <th>0</th>\n",
       "      <td>96</td>\n",
       "      <td>5.463832</td>\n",
       "      <td>0.0</td>\n",
       "      <td>0.0</td>\n",
       "    </tr>\n",
       "    <tr>\n",
       "      <th>1</th>\n",
       "      <td>96</td>\n",
       "      <td>4.709530</td>\n",
       "      <td>3.0</td>\n",
       "      <td>4.0</td>\n",
       "    </tr>\n",
       "    <tr>\n",
       "      <th>2</th>\n",
       "      <td>96</td>\n",
       "      <td>4.510860</td>\n",
       "      <td>0.0</td>\n",
       "      <td>0.0</td>\n",
       "    </tr>\n",
       "    <tr>\n",
       "      <th>3</th>\n",
       "      <td>96</td>\n",
       "      <td>4.189655</td>\n",
       "      <td>0.0</td>\n",
       "      <td>6.0</td>\n",
       "    </tr>\n",
       "    <tr>\n",
       "      <th>4</th>\n",
       "      <td>95</td>\n",
       "      <td>4.204693</td>\n",
       "      <td>2.0</td>\n",
       "      <td>26.0</td>\n",
       "    </tr>\n",
       "  </tbody>\n",
       "</table>\n",
       "</div>"
      ],
      "text/plain": [
       "   points     price  country_id  province_id\n",
       "0      96  5.463832         0.0          0.0\n",
       "1      96  4.709530         3.0          4.0\n",
       "2      96  4.510860         0.0          0.0\n",
       "3      96  4.189655         0.0          6.0\n",
       "4      95  4.204693         2.0         26.0"
      ]
     },
     "execution_count": 33,
     "metadata": {},
     "output_type": "execute_result"
    }
   ],
   "source": [
    "numerical = wineOri[['points','price','country_id','province_id']].dropna()\n",
    "numerical.head()"
   ]
  },
  {
   "cell_type": "markdown",
   "id": "3e839820",
   "metadata": {},
   "source": [
    "#### 利用属性之间的相关关系进行填充"
   ]
  },
  {
   "cell_type": "code",
   "execution_count": 35,
   "id": "55e3e833",
   "metadata": {},
   "outputs": [
    {
     "data": {
      "text/plain": [
       "DecisionTreeRegressor(max_depth=5)"
      ]
     },
     "execution_count": 35,
     "metadata": {},
     "output_type": "execute_result"
    }
   ],
   "source": [
    "from sklearn.tree import DecisionTreeRegressor\n",
    "model=DecisionTreeRegressor(max_depth=5)\n",
    "model.fit(numerical[['country_id','points','province_id']],numerical['price'])"
   ]
  },
  {
   "cell_type": "code",
   "execution_count": 38,
   "id": "7878c2b4",
   "metadata": {
    "scrolled": true
   },
   "outputs": [],
   "source": [
    "for item in lost_priceList:\n",
    "    wine_fill.loc[item,('price')]=model.predict(np.array(wineOri.loc[item][['country_id','points','province_id']]).reshape(-1,3))"
   ]
  },
  {
   "cell_type": "markdown",
   "id": "243c87f6",
   "metadata": {},
   "source": [
    "#### 可以看出此时以另外一种方式对缺失值进行了填充"
   ]
  },
  {
   "cell_type": "code",
   "execution_count": 41,
   "id": "d8d84157",
   "metadata": {},
   "outputs": [
    {
     "data": {
      "text/plain": [
       "32        3.635083\n",
       "56        3.635083\n",
       "72        3.703665\n",
       "82        3.703665\n",
       "116       2.662778\n",
       "            ...   \n",
       "150377    2.874043\n",
       "150378    2.874043\n",
       "150587    3.413570\n",
       "150673    3.309300\n",
       "150922    3.703665\n",
       "Name: price, Length: 13695, dtype: float64"
      ]
     },
     "execution_count": 41,
     "metadata": {},
     "output_type": "execute_result"
    }
   ],
   "source": [
    "wine_fill.loc[lost_priceList]['price']"
   ]
  },
  {
   "cell_type": "markdown",
   "id": "6dc4e823",
   "metadata": {},
   "source": [
    "#### 通过数据对象之间的相似性进行填充"
   ]
  },
  {
   "cell_type": "code",
   "execution_count": 43,
   "id": "52ef7edb",
   "metadata": {},
   "outputs": [],
   "source": [
    "wine_fill = copy.deepcopy(wineOri)\n",
    "wine_fill = wine_fill[['price','country_id','province_id','points']]\n",
    "from sklearn.impute import KNNImputer\n",
    "imputer=KNNImputer(n_neighbors=4,weights='uniform')\n",
    "result=pd.DataFrame(imputer.fit_transform(wine_fill))\n",
    "result=result.rename(columns={0:'price',1:'country_id',2:'province_id',3:'points'})"
   ]
  },
  {
   "cell_type": "markdown",
   "id": "aaabcb5d",
   "metadata": {},
   "source": [
    "#### 可以看出此时已经没有缺失值"
   ]
  },
  {
   "cell_type": "code",
   "execution_count": 44,
   "id": "ee445c6a",
   "metadata": {},
   "outputs": [
    {
     "data": {
      "text/plain": [
       "0"
      ]
     },
     "execution_count": 44,
     "metadata": {},
     "output_type": "execute_result"
    }
   ],
   "source": [
    "result[result.isna().any(axis=1)].shape[0]"
   ]
  }
 ],
 "metadata": {
  "kernelspec": {
   "display_name": "Python 3 (ipykernel)",
   "language": "python",
   "name": "python3"
  },
  "language_info": {
   "codemirror_mode": {
    "name": "ipython",
    "version": 3
   },
   "file_extension": ".py",
   "mimetype": "text/x-python",
   "name": "python",
   "nbconvert_exporter": "python",
   "pygments_lexer": "ipython3",
   "version": "3.9.7"
  }
 },
 "nbformat": 4,
 "nbformat_minor": 5
}
